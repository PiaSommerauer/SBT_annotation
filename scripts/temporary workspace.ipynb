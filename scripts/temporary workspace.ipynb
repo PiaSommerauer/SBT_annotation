{
 "cells": [
  {
   "cell_type": "markdown",
   "metadata": {},
   "source": [
    "# Create crowd input workflow\n",
    "\n",
    "\n",
    "1.) Create all questions of a run\n",
    "\n",
    "- this should not be changed (only created once)\n",
    "- if the question formulations change, we create a new run\n",
    "- identifiers should not change\n",
    "- create unique ids here\n",
    "- we draw from this selection for creating batches \n",
    "\n",
    "\n",
    "2.) Create batch\n",
    "\n",
    "- draw from all questions of a run\n",
    "- only select properties in the experiment group\n",
    "- always make sure that a batch contains the full set of questions of a pair \n",
    "- add prolific url \n",
    "- check prolific_input for already posed pairs\n",
    "- write to file without header\n",
    "\n",
    "\n",
    "Run: \n",
    "\n",
    "`python create_questions.py [run]`\n",
    "\n",
    "`python create_batch.py [url] [batch/test]`"
   ]
  },
  {
   "cell_type": "markdown",
   "metadata": {},
   "source": [
    "## Fix csv splitting issue"
   ]
  },
  {
   "cell_type": "code",
   "execution_count": 69,
   "metadata": {},
   "outputs": [
    {
     "name": "stdout",
     "output_type": "stream",
     "text": [
      "9\n",
      "['level', 'question', 'relation', 'perceptual', 'perceptual_scale', 'complex', 'complex_scale', 'parts', 'activities']\n",
      "\n",
      " checking if lines have the correct lenght\n",
      "\n",
      "9\n",
      "9\n",
      "9\n",
      "9\n",
      "9\n",
      "9\n",
      "9\n",
      "9\n",
      "9\n",
      "9\n",
      "9\n",
      "9\n",
      "9\n",
      "9\n",
      "9\n",
      "9\n",
      "9\n",
      "9\n",
      "9\n",
      "9\n",
      "9\n",
      "9\n",
      "9\n",
      "9\n",
      "9\n",
      "9\n",
      "9\n",
      "9\n",
      "9\n",
      "9\n",
      "9\n"
     ]
    }
   ],
   "source": [
    "import csv\n",
    "\n",
    "run = 4\n",
    "path = f'../templates/template-run{run}.csv'\n",
    "path_backup = f'../templates/template-run{run}-backup.csv'\n",
    "with open(path) as infile:\n",
    "    lines = infile.read().strip().split('\\n')\n",
    "    \n",
    "with open(path_backup, 'w') as outfile:\n",
    "    outfile.write('\\n'.join(lines))\n",
    "\n",
    "header = lines[0].strip().split('\\t')\n",
    "correct_length = len(header)\n",
    "print(correct_length)\n",
    "print(header)\n",
    "\n",
    "new_lines = []\n",
    "for line in lines:\n",
    "    line_l = line.strip().split('\\t')\n",
    "    n_cells = len(line_l)\n",
    "    if n_cells == correct_length:\n",
    "        new_lines.append(line.strip())\n",
    "    elif n_cells == 10:\n",
    "        repaired_sent = ','.join(line_l[1:3]).strip()\n",
    "        if repaired_sent[-1] != '.':\n",
    "            repaired_sent = repaired_sent+'.'\n",
    "        new_line_l = []\n",
    "        new_line_l.append(line_l[0])\n",
    "        new_line_l.append(repaired_sent)\n",
    "        new_line_l.extend(line_l[3:])\n",
    "        #print(len(new_line_l))\n",
    "        #print(new_line_l)\n",
    "        new_lines.append('\\t'.join(new_line_l).strip())   \n",
    "    elif n_cells == 11:\n",
    "        repaired_sent = ','.join(line_l[1:4])\n",
    "        new_line_l = []\n",
    "        new_line_l.append(line_l[0])\n",
    "        new_line_l.append(repaired_sent)\n",
    "        new_line_l.extend(line_l[4:])\n",
    "        #print(new_line_l)\n",
    "        #print(len(new_line_l))\n",
    "        #print(new_line_l)\n",
    "        new_lines.append('\\t'.join(new_line_l).strip())\n",
    "    else:\n",
    "        print('missed something')\n",
    "        #print(line_l)\n",
    "                         \n",
    "print('\\n checking if lines have the correct lenght\\n')\n",
    "for l in new_lines:\n",
    "    print(len(l.split('\\t')))\n",
    "    #print(l)\n",
    "with open(path, 'w') as outfile:\n",
    "    outfile.write('\\n'.join(new_lines))"
   ]
  },
  {
   "cell_type": "markdown",
   "metadata": {},
   "source": [
    "# Find example\n"
   ]
  },
  {
   "cell_type": "code",
   "execution_count": 3,
   "metadata": {},
   "outputs": [
    {
     "name": "stdout",
     "output_type": "stream",
     "text": [
      "Found maade_of_plastic in ../examples/typical_of_property-pairs.csv\n"
     ]
    }
   ],
   "source": [
    "from utils import read_csv\n",
    "import glob\n",
    "\n",
    "# Get example properties\n",
    "def find_example(target, target_prop_concept):\n",
    "    ex_files = glob.glob('../examples/*-pairs.csv')\n",
    "    for f in ex_files:\n",
    "        with open(f) as infile:\n",
    "            dl = read_csv(f)\n",
    "            for d in dl:\n",
    "                candidates = []\n",
    "                for k, v in d.items():\n",
    "                    if k.startswith(target_prop_concept):\n",
    "                        prop_concept = v\n",
    "                        candidates.append(prop_concept)\n",
    "                if target in candidates:\n",
    "                    print(f'Found {target} in {f}')\n",
    "                    \n",
    "\n",
    "target = 'maade_of_plastic'\n",
    "target_prop_concept = 'prop'\n",
    "find_example(target, target_prop_concept)"
   ]
  },
  {
   "cell_type": "code",
   "execution_count": 38,
   "metadata": {},
   "outputs": [
    {
     "name": "stdout",
     "output_type": "stream",
     "text": [
      "pos: I know that (a/an) earring has (a/an) made_of_metal as most or all other things similar to (a/an) earring have (a/an) made_of_metal. \n",
      "neg: I know that (a/an) bike has (a/an) sattle as most or all other things similar to (a/an) bike have (a/an) sattle. \n",
      "\n",
      "pos: I know that (a/an) cotten_candy is sweet as most or all other things similar to (a/an) cotten_candy are sweet. \n",
      "neg: I know that (a/an) dress is white as most or all other things similar to (a/an) dress are white. \n",
      "\n",
      "pos: I know that (a/an) apple_tree can grow/be used for growing as most or all other things similar to (a/an) apple_tree grow. \n",
      "neg: I know that (a/an) worm can run/be used for runing as most or all other things similar to (a/an) worm run. \n",
      "\n",
      "pos: I know that (a/an) ruby is valuable as most or all other things similar to (a/an) ruby are valuable. \n",
      "neg: I know that (a/an) hammer is valuable as most or all other things similar to (a/an) hammer are valuable. \n",
      "\n",
      "pos: I know that (a/an) poodle can bark/be used for barking as most or all other things similar to (a/an) poodle bark. \n",
      "neg: I know that (a/an) dog can bark/be used for barking as most or all other things similar to (a/an) dog bark. \n",
      "\n",
      "pos: I know that (a/an) chocoloate_bar is sweet as most or all other things similar to (a/an) chocoloate_bar are sweet. \n",
      "neg: I know that (a/an) dress is white as most or all other things similar to (a/an) dress are white. \n",
      "\n",
      "pos: I know that (a/an) wine is liquid as most or all other things similar to (a/an) wine are liquid. \n",
      "neg: I know that (a/an) bread is liquid as most or all other things similar to (a/an) bread are liquid. \n",
      "\n",
      "pos: I know that (a/an) pony has (a/an) mane as most or all other things similar to (a/an) pony have (a/an) mane. \n",
      "neg: I know that (a/an) pen has (a/an) ink as most or all other things similar to (a/an) pen have (a/an) ink. \n",
      "\n",
      "pos: I know that (a/an) dog has (a/an) legs as most or all other things similar to (a/an) dog have (a/an) legs. \n",
      "neg: I know that (a/an) teddy bear has (a/an) handle as most or all other things similar to (a/an) teddy bear have (a/an) handle. \n",
      "\n",
      "pos: I know that (a/an) orange is healthy as most or all other things similar to (a/an) orange are healthy. \n",
      "neg: I know that (a/an) strawberry is heavy as most or all other things similar to (a/an) strawberry are heavy. \n",
      "\n",
      "pos: I know that (a/an) dog can breathe/be used for breathing as most or all other things similar to (a/an) dog breathe. \n",
      "neg: I know that (a/an) cat can meow/be used for meowing as most or all other things similar to (a/an) cat meow. \n",
      "\n",
      "pos: I know that (a/an) merlot is alcoholic as most or all other things similar to (a/an) merlot are alcoholic. \n",
      "neg: I know that (a/an) lemonade is alcoholic as most or all other things similar to (a/an) lemonade are alcoholic. \n",
      "\n",
      "pos: I know that (a/an) chocoloate_cake is sweet as most or all other things similar to (a/an) chocoloate_cake are sweet. \n",
      "neg: I know that (a/an) table is transparent as most or all other things similar to (a/an) table are transparent. \n",
      "\n"
     ]
    }
   ],
   "source": [
    "# get all examples for review\n",
    "from collections import defaultdict\n",
    "\n",
    "def collect_all_examples(run, relation=None):\n",
    "    \n",
    "    f = f'../questions/run{run}-all-restricted_True.csv'\n",
    "    dl = read_csv(f)\n",
    "    all_examples = defaultdict(set)\n",
    "    ex_keys = ['example_pos', 'example_neg']\n",
    "    \n",
    "    for d in dl:\n",
    "        examples = []\n",
    "        rel = d['relation']\n",
    "        for k in ex_keys:\n",
    "            examples.append(d[k])\n",
    "        all_examples[rel].add(tuple(examples))\n",
    "    for rel, examples in all_examples.items():\n",
    "        if rel == None:\n",
    "            print(rel)\n",
    "            for ex_pos, ex_neg in examples:\n",
    "                print(f'pos: {ex_pos}')\n",
    "                print(f'neg: {ex_neg}')\n",
    "                print()\n",
    "        else:\n",
    "            if rel == relation:\n",
    "                for ex_pos, ex_neg in examples:\n",
    "                    print(f'pos: {ex_pos}')\n",
    "                    print(f'neg: {ex_neg}')\n",
    "                    print()\n",
    "\n",
    "\n",
    "run = 4\n",
    "collect_all_examples(run, relation = 'implied_category')           "
   ]
  },
  {
   "cell_type": "markdown",
   "metadata": {},
   "source": [
    "# Updating examples or issues in the questions"
   ]
  },
  {
   "cell_type": "code",
   "execution_count": null,
   "metadata": {},
   "outputs": [],
   "source": [
    "# moved to update_questions.py"
   ]
  }
 ],
 "metadata": {
  "kernelspec": {
   "display_name": "Python 3",
   "language": "python",
   "name": "python3"
  },
  "language_info": {
   "codemirror_mode": {
    "name": "ipython",
    "version": 3
   },
   "file_extension": ".py",
   "mimetype": "text/x-python",
   "name": "python",
   "nbconvert_exporter": "python",
   "pygments_lexer": "ipython3",
   "version": "3.7.3"
  }
 },
 "nbformat": 4,
 "nbformat_minor": 4
}
