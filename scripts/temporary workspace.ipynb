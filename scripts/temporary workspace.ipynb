{
 "cells": [
  {
   "cell_type": "markdown",
   "metadata": {},
   "source": [
    "# Create crowd input workflow\n",
    "\n",
    "\n",
    "1.) Create all questions of a run\n",
    "\n",
    "- this should not be changed (only created once)\n",
    "- if the question formulations change, we create a new run\n",
    "- identifiers should not change\n",
    "- create unique ids here\n",
    "- we draw from this selection for creating batches \n",
    "\n",
    "\n",
    "2.) Create batch\n",
    "\n",
    "- draw from all questions of a run\n",
    "- only select properties in the experiment group\n",
    "- always make sure that a batch contains the full set of questions of a pair \n",
    "- add prolific url \n",
    "- check prolific_input for already posed pairs\n",
    "- write to file without header\n",
    "\n",
    "\n",
    "Run: \n",
    "\n",
    "`python create_questions.py [run]`\n",
    "\n",
    "`python create_batch.py [url] [batch/test]`"
   ]
  },
  {
   "cell_type": "markdown",
   "metadata": {},
   "source": [
    "## Fix csv splitting issue"
   ]
  },
  {
   "cell_type": "code",
   "execution_count": 54,
   "metadata": {},
   "outputs": [
    {
     "name": "stdout",
     "output_type": "stream",
     "text": [
      "9\n",
      "['level', 'question', 'relation', 'perceptual', 'perceptual_scale', 'complex', 'complex_scale', 'parts', 'activities']\n",
      "missed something\n",
      "\n",
      " checking if lines have the correct lenght\n",
      "\n",
      "9\n",
      "9\n",
      "9\n",
      "9\n",
      "9\n",
      "9\n",
      "9\n",
      "9\n",
      "9\n",
      "9\n",
      "9\n",
      "9\n",
      "9\n",
      "9\n",
      "9\n",
      "9\n",
      "9\n",
      "9\n",
      "9\n",
      "9\n",
      "9\n",
      "9\n",
      "9\n",
      "9\n",
      "9\n",
      "9\n",
      "9\n",
      "9\n",
      "9\n"
     ]
    }
   ],
   "source": [
    "import csv\n",
    "\n",
    "run = 4\n",
    "path = f'../templates/template-run{run}.csv'\n",
    "path_backup = f'../templates/template-run{run}-backup.csv'\n",
    "with open(path) as infile:\n",
    "    lines = infile.read().strip().split('\\n')\n",
    "    \n",
    "with open(path_backup, 'w') as outfile:\n",
    "    outfile.write('\\n'.join(lines))\n",
    "\n",
    "header = lines[0].strip().split('\\t')\n",
    "correct_length = len(header)\n",
    "print(correct_length)\n",
    "print(header)\n",
    "\n",
    "new_lines = []\n",
    "for line in lines:\n",
    "    line_l = line.strip().split('\\t')\n",
    "    n_cells = len(line_l)\n",
    "    if n_cells == correct_length:\n",
    "        new_lines.append(line.strip())\n",
    "    elif n_cells == 10:\n",
    "        repaired_sent = ','.join(line_l[1:3]).strip()\n",
    "        if repaired_sent[-1] != '.':\n",
    "            repaired_sent = repaired_sent+'.'\n",
    "        new_line_l = []\n",
    "        new_line_l.append(line_l[0])\n",
    "        new_line_l.append(repaired_sent)\n",
    "        new_line_l.extend(line_l[3:])\n",
    "        #print(len(new_line_l))\n",
    "        #print(new_line_l)\n",
    "        new_lines.append('\\t'.join(new_line_l).strip())   \n",
    "    elif n_cells == 11:\n",
    "        repaired_sent = ','.join(line_l[1:4])\n",
    "        new_line_l = []\n",
    "        new_line_l.append(line_l[0])\n",
    "        new_line_l.append(repaired_sent)\n",
    "        new_line_l.extend(line_l[4:])\n",
    "        #print(new_line_l)\n",
    "        #print(len(new_line_l))\n",
    "        #print(new_line_l)\n",
    "        new_lines.append('\\t'.join(new_line_l).strip())\n",
    "    else:\n",
    "        print('missed something')\n",
    "        #print(line_l)\n",
    "                         \n",
    "print('\\n checking if lines have the correct lenght\\n')\n",
    "for l in new_lines:\n",
    "    print(len(l.split('\\t')))\n",
    "    #print(l)\n",
    "with open(path, 'w') as outfile:\n",
    "    outfile.write('\\n'.join(new_lines))"
   ]
  },
  {
   "cell_type": "code",
   "execution_count": null,
   "metadata": {},
   "outputs": [],
   "source": []
  },
  {
   "cell_type": "code",
   "execution_count": 18,
   "metadata": {},
   "outputs": [],
   "source": [
    "\n",
    "\n"
   ]
  },
  {
   "cell_type": "markdown",
   "metadata": {},
   "source": [
    "# Updating examples or issues in the questions"
   ]
  },
  {
   "cell_type": "code",
   "execution_count": null,
   "metadata": {},
   "outputs": [],
   "source": [
    "# moved to update_questions.py"
   ]
  }
 ],
 "metadata": {
  "kernelspec": {
   "display_name": "Python 3",
   "language": "python",
   "name": "python3"
  },
  "language_info": {
   "codemirror_mode": {
    "name": "ipython",
    "version": 3
   },
   "file_extension": ".py",
   "mimetype": "text/x-python",
   "name": "python",
   "nbconvert_exporter": "python",
   "pygments_lexer": "ipython3",
   "version": "3.7.3"
  }
 },
 "nbformat": 4,
 "nbformat_minor": 4
}
