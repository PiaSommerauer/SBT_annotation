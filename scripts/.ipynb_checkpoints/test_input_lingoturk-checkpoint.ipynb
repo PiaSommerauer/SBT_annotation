{
 "cells": [
  {
   "cell_type": "markdown",
   "metadata": {},
   "source": [
    "# Create input with multiple batches"
   ]
  },
  {
   "cell_type": "code",
   "execution_count": 19,
   "metadata": {},
   "outputs": [],
   "source": [
    "import csv \n",
    "\n",
    "header = ['listNr', 'quid', 'description', 'exampleTrue', \n",
    "          'exampleFalse', 'run', 'completionUrl', 'triple', 'name' ]\n",
    "\n",
    "test_input_dicts = []\n",
    "\n",
    "n_lists = 3\n",
    "n_items = 3\n",
    "\n",
    "uid = 1\n",
    "for nl in range(1, n_lists+1):\n",
    "    for ni in range(1, n_items+1):\n",
    "        d = dict()\n",
    "        d['listNr'] = nl\n",
    "        d['completionUrl'] = 'https://piasommerauer.github.io/'\n",
    "        for h in header:\n",
    "            if h not in ['listNr', 'completionUrl']\n",
    "                d[h] = uid\n",
    "        uid += 1\n",
    "        test_input_dicts.append(d)\n",
    "            \n",
    "            \n",
    "with open('../prolific_input/test/test1.csv', 'w') as outfile:\n",
    "    writer = csv.DictWriter(outfile, fieldnames = header)\n",
    "    writer.writeheader()\n",
    "    for d in test_input_dicts:\n",
    "        writer.writerow(d)\n",
    "    "
   ]
  },
  {
   "cell_type": "code",
   "execution_count": null,
   "metadata": {},
   "outputs": [],
   "source": []
  }
 ],
 "metadata": {
  "kernelspec": {
   "display_name": "Python 3",
   "language": "python",
   "name": "python3"
  },
  "language_info": {
   "codemirror_mode": {
    "name": "ipython",
    "version": 3
   },
   "file_extension": ".py",
   "mimetype": "text/x-python",
   "name": "python",
   "nbconvert_exporter": "python",
   "pygments_lexer": "ipython3",
   "version": "3.7.8"
  }
 },
 "nbformat": 4,
 "nbformat_minor": 4
}
