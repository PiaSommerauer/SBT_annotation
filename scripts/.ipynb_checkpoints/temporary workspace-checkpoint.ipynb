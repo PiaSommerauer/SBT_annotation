{
 "cells": [
  {
   "cell_type": "markdown",
   "metadata": {},
   "source": [
    "# Create crowd input workflow\n",
    "\n",
    "\n",
    "1.) Create all questions of a run\n",
    "\n",
    "- this should not be changed (only created once)\n",
    "- if the question formulations change, we create a new run\n",
    "- identifiers should not change\n",
    "- create unique ids here\n",
    "- we draw from this selection for creating batches \n",
    "\n",
    "\n",
    "2.) Create batch\n",
    "\n",
    "- draw from all questions of a run\n",
    "- only select properties in the experiment group\n",
    "- always make sure that a batch contains the full set of questions of a pair \n",
    "- add prolific url \n",
    "- check prolific_input for already posed pairs\n",
    "- write to file without header\n"
   ]
  },
  {
   "cell_type": "code",
   "execution_count": null,
   "metadata": {},
   "outputs": [],
   "source": [
    "# match question ids - done\n",
    "# to clean up the data, change the ids in the questions file to the input ids - done\n",
    "\n",
    "\n",
    "# then check how much has been annotated\n",
    "\n"
   ]
  },
  {
   "cell_type": "code",
   "execution_count": null,
   "metadata": {},
   "outputs": [],
   "source": []
  },
  {
   "cell_type": "code",
   "execution_count": null,
   "metadata": {},
   "outputs": [],
   "source": [
    "\n",
    "\n"
   ]
  },
  {
   "cell_type": "code",
   "execution_count": null,
   "metadata": {},
   "outputs": [],
   "source": []
  }
 ],
 "metadata": {
  "kernelspec": {
   "display_name": "Python 3",
   "language": "python",
   "name": "python3"
  },
  "language_info": {
   "codemirror_mode": {
    "name": "ipython",
    "version": 3
   },
   "file_extension": ".py",
   "mimetype": "text/x-python",
   "name": "python",
   "nbconvert_exporter": "python",
   "pygments_lexer": "ipython3",
   "version": "3.7.3"
  }
 },
 "nbformat": 4,
 "nbformat_minor": 4
}
